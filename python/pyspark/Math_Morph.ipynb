{
 "cells": [
  {
   "cell_type": "code",
   "execution_count": 1,
   "id": "6670a1a0",
   "metadata": {},
   "outputs": [],
   "source": [
    "import cv2\n",
    "import numpy as np\n",
    "from matplotlib import pyplot as plt"
   ]
  },
  {
   "cell_type": "code",
   "execution_count": 9,
   "id": "239d8ce1",
   "metadata": {},
   "outputs": [],
   "source": [
    "def perform_morphological_operation(image, kernel, operation):\n",
    "    if operation == 'erosion':\n",
    "        return cv2.erode(image, kernel, anchor=(1, 1), iterations=1)\n",
    "    elif operation == 'dilation':\n",
    "        return cv2.dilate(image, kernel, anchor=(1, 1), iterations=1)\n",
    "    elif operation == 'opening':\n",
    "        return cv2.morphologyEx(image, cv2.MORPH_OPEN, kernel)\n",
    "    elif operation == 'closing':\n",
    "        return cv2.morphologyEx(image, cv2.MORPH_CLOSE, kernel)\n",
    "    else:\n",
    "        raise ValueError(\"Invalid operation\")\n",
    "\n",
    "# Given Structuring Element\n",
    "kernel = np.array([[1, 1, 0],\n",
    "                   [0, 1, 1],\n",
    "                   [1, 1, 0]], dtype=np.uint8)\n",
    "\n",
    "# Given Image\n",
    "image = np.array([[0, 0, 0, 0, 0, 0, 0, 0, 0],\n",
    "                  [0, 1, 1, 1, 0, 1, 1, 1, 0],\n",
    "                  [0, 1, 1, 1, 0, 1, 1, 1, 0],\n",
    "                  [0, 1, 1, 1, 0, 1, 1, 1, 0],\n",
    "                  [0, 0, 0, 0, 0, 0, 0, 0, 0]], dtype=np.uint8)\n"
   ]
  },
  {
   "cell_type": "code",
   "execution_count": 10,
   "id": "3e1c783e",
   "metadata": {},
   "outputs": [
    {
     "data": {
      "image/png": "[encoded data removed]",
      "text/plain": [
       "<Figure size 1200x800 with 5 Axes>"
      ]
     },
     "metadata": {},
     "output_type": "display_data"
    }
   ],
   "source": [
    "# Perform morphological operations\n",
    "erosion_result = perform_morphological_operation(image, kernel, 'erosion')\n",
    "dilation_result = perform_morphological_operation(image, kernel, 'dilation')\n",
    "opening_result = perform_morphological_operation(image, kernel, 'opening')\n",
    "closing_result = perform_morphological_operation(image, kernel, 'closing')\n",
    "\n",
    "# Display results\n",
    "plt.figure(figsize=(12, 8))\n",
    "\n",
    "plt.subplot(2, 3, 1)\n",
    "plt.imshow(image, cmap='gray')\n",
    "plt.title('Original Image')\n",
    "\n",
    "plt.subplot(2, 3, 2)\n",
    "plt.imshow(erosion_result, cmap='gray')\n",
    "plt.title('Erosion')\n",
    "\n",
    "plt.subplot(2, 3, 3)\n",
    "plt.imshow(dilation_result, cmap='gray')\n",
    "plt.title('Dilation')\n",
    "\n",
    "plt.subplot(2, 3, 4)\n",
    "plt.imshow(opening_result, cmap='gray')\n",
    "plt.title('Opening')\n",
    "\n",
    "plt.subplot(2, 3, 5)\n",
    "plt.imshow(closing_result, cmap='gray')\n",
    "plt.title('Closing')\n",
    "\n",
    "plt.show()\n"
   ]
  },
  {
   "cell_type": "code",
   "execution_count": 11,
   "id": "ed3d4596",
   "metadata": {},
   "outputs": [
    {
     "name": "stdout",
     "output_type": "stream",
     "text": [
      "\n",
      "Erosion Result:\n",
      "[[0 0 0 0 0 0 0 0 0]\n",
      " [0 0 0 0 0 0 0 0 0]\n",
      " [0 0 1 0 0 0 1 0 0]\n",
      " [0 0 0 0 0 0 0 0 0]\n",
      " [0 0 0 0 0 0 0 0 0]]\n",
      "\n",
      "Dilation Result:\n",
      "[[0 1 1 1 1 1 1 1 1]\n",
      " [1 1 1 1 1 1 1 1 1]\n",
      " [1 1 1 1 1 1 1 1 1]\n",
      " [1 1 1 1 1 1 1 1 1]\n",
      " [0 1 1 1 1 1 1 1 1]]\n",
      "\n",
      "Opening Result:\n",
      "[[0 0 0 0 0 0 0 0 0]\n",
      " [0 0 1 1 0 0 1 1 0]\n",
      " [0 1 1 0 0 1 1 0 0]\n",
      " [0 0 1 1 0 0 1 1 0]\n",
      " [0 0 0 0 0 0 0 0 0]]\n",
      "\n",
      "Closing Result:\n",
      "[[0 1 1 1 1 1 1 1 1]\n",
      " [0 0 1 1 1 1 1 1 1]\n",
      " [1 1 1 1 1 1 1 1 1]\n",
      " [0 0 1 1 1 1 1 1 1]\n",
      " [0 1 1 1 1 1 1 1 1]]\n"
     ]
    }
   ],
   "source": [
    "# Print the results\n",
    "print(\"\\nErosion Result:\")\n",
    "print(erosion_result)\n",
    "\n",
    "print(\"\\nDilation Result:\")\n",
    "print(dilation_result)\n",
    "\n",
    "print(\"\\nOpening Result:\")\n",
    "print(opening_result)\n",
    "\n",
    "print(\"\\nClosing Result:\")\n",
    "print(closing_result)"
   ]
  },
  {
   "cell_type": "code",
   "execution_count": 2,
   "id": "27b5a548",
   "metadata": {},
   "outputs": [
    {
     "name": "stdout",
     "output_type": "stream",
     "text": [
      "Original Image:\n",
      "[[0 0 0 0 0]\n",
      " [0 1 1 1 0]\n",
      " [0 1 1 1 0]\n",
      " [0 1 1 1 0]\n",
      " [0 0 0 0 0]]\n",
      "\n",
      "Erosion Result:\n",
      "[[0 0 0 0 0]\n",
      " [0 0 0 0 0]\n",
      " [0 1 1 1 0]\n",
      " [0 0 0 0 0]\n",
      " [0 0 0 0 0]]\n",
      "\n",
      "Dilation Result:\n",
      "[[0 1 1 1 0]\n",
      " [0 1 1 1 0]\n",
      " [0 1 1 1 0]\n",
      " [0 1 1 1 0]\n",
      " [0 1 1 1 0]]\n"
     ]
    }
   ],
   "source": [
    "import cv2\n",
    "import numpy as np\n",
    "\n",
    "def perform_morphological_operation(image, kernel, operation):\n",
    "    anchor = (kernel.shape[1] // 2, kernel.shape[0] // 2)  # Compute anchor dynamically\n",
    "    if operation == 'erosion':\n",
    "        return cv2.erode(image, kernel, anchor=anchor, iterations=1)\n",
    "    elif operation == 'dilation':\n",
    "        return cv2.dilate(image, kernel, anchor=anchor, iterations=1)\n",
    "    elif operation == 'opening':\n",
    "        return cv2.morphologyEx(image, cv2.MORPH_OPEN, kernel)\n",
    "    elif operation == 'closing':\n",
    "        return cv2.morphologyEx(image, cv2.MORPH_CLOSE, kernel)\n",
    "    else:\n",
    "        raise ValueError(\"Invalid operation\")\n",
    "\n",
    "# Given Structuring Element\n",
    "kernel = np.array([[1],\n",
    "                   [1],\n",
    "                   [1]], dtype=np.uint8)\n",
    "\n",
    "# Given Image\n",
    "image = np.array([[0, 0, 0, 0, 0],\n",
    "                  [0, 1, 1, 1, 0],\n",
    "                  [0, 1, 1, 1, 0],\n",
    "                  [0, 1, 1, 1, 0],\n",
    "                  [0, 0, 0, 0, 0]], dtype=np.uint8)\n",
    "\n",
    "# Perform Erosion\n",
    "erosion_result = perform_morphological_operation(image, kernel, 'erosion')\n",
    "\n",
    "# Perform Dilation\n",
    "dilation_result = perform_morphological_operation(image, kernel, 'dilation')\n",
    "\n",
    "# Display results\n",
    "print(\"Original Image:\")\n",
    "print(image)\n",
    "print(\"\\nErosion Result:\")\n",
    "print(erosion_result)\n",
    "print(\"\\nDilation Result:\")\n",
    "print(dilation_result)\n"
   ]
  }
 ],
 "metadata": {
  "kernelspec": {
   "display_name": "Python 3 (ipykernel)",
   "language": "python",
   "name": "python3"
  },
  "language_info": {
   "codemirror_mode": {
    "name": "ipython",
    "version": 3
   },
   "file_extension": ".py",
   "mimetype": "text/x-python",
   "name": "python",
   "nbconvert_exporter": "python",
   "pygments_lexer": "ipython3",
   "version": "3.11.5"
  }
 },
 "nbformat": 4,
 "nbformat_minor": 5
}
